{
 "cells": [
  {
   "cell_type": "code",
   "execution_count": 1,
   "id": "fb498e80",
   "metadata": {},
   "outputs": [],
   "source": [
    "import requests\n",
    "\n",
    "\n",
    "def process_url(url):\n",
    "    item_id = url.split('html')[0].split('-')[-2].replace('i','')\n",
    "    url = f\"https://my.daraz.pk/pdp/review/getReviewList?itemId={item_id}&pageSize=100\"\n",
    "    return url\n",
    "    \n",
    "\n",
    "\n",
    "def request(url):\n",
    "    payload = {}\n",
    "    headers = {\n",
    "      'User-Agent': 'Mozilla/5.0 (Windows NT 10.0; Win64; x64; rv:109.0) Gecko/20100101 Firefox/118.0',\n",
    "      'Accept': 'application/json, text/plain, */*',\n",
    "      'Accept-Language': 'en-US,en;q=0.5',\n",
    "      'Accept-Encoding': 'gzip, deflate, br',\n",
    "      'Referer': 'https://www.daraz.pk/',\n",
    "      'X-CSRF-TOKEN': 'b75b5b3535e3',\n",
    "      'X-Requested-With': 'XMLHttpRequest',\n",
    "      'x-ua': '140^#YBODdazEzzPYKQo2LxAQCpN8dR5pRSgMpAePFSwQGvb+GMJDc6+Ww4nebK9JYkGPllwhdTJdg8GLgu31KN8bFkOprmoqlbzxhSLtJ8+IzzcXG1NVl3MzzPzbVXl/lbC7LWYnDuSq7bX14mUTU6SxzoObV2EqlttH2PH+gzrQGmKIPtrPHpcDmKnPNIICq1e8dIiUySV3S4cLv7UJkzppgwbKu6pO0mUZ8gzxDKebaCiYxZD9A5V9bMZMzcx8Mj3jBU3fR3yvL5ECDW2du3ZCl7F92oLMpjq3QnnFr6jPuXqILtmSlq2UzTUZdHKjDecIyV1+f8uvNEpF9LdzeubhTYMXaBMr/woOYYtAP94j61HLOi0BPNwx/qtzoygppBhRlBSjAeKOzsMrMoWzAd45NEiceJp5riGRc7Oyb2oruOY0zsN9J3tC1LDV3G4cdizK3jFrFt+juzqVG9Ap5qJ5edJEdaOxrNa8gprcj9ZULKHwHXaaOiZSnSyK4ZtV51SD+fJO/S/Rj+iIAgkAKSV+XTWDKQ2W2cRAASUx+8T7kiY7dhzSKtRETzd2asjC4GIjT4FKJ+zKrzNaNDfoAtmz18ZJH70Yjz1AA0yJbjUOFcCjQ7iG0yXocZe27s+FWbUhtBisFmMfzBoGaQzQYItDILJizZIKKGwH3LhG/65CPS/8y7TaJi4uN185G/8QNZwiCMmJV/c2b9/B36YXsnfdR9zfbr1lJI0niDyuXjkwoZzAPvQGB+I9xgFUpw6XO+KO89P96ZiUeQHzXBYVIomLefGgiUWHZf7Fgt2z7/isNGDvOqx+sFTjOl0ui3EJD6vUN8jguIMxoR1GKBuyYeL/FFjpJT7TkZT+eL9F7UiStIrN52EFTdqcZ7n71G5Pcc9irmmgu2F0zv2fonZBlOJVu3V2Ul1TOEEWGlOvnuBGu+VxP4EI8x7e9qDVS89p/0woxXO8eILKFZ7JtEv7dNsWqfuIkItQ6u5NeqDOFuC8LvBzwBwK99kGWVAvBuq6Ti1Yvq73PE910wKZjOdDntC8GqpJgi3sloi8gaZOIg7Bq3It+fr=',\n",
    "      'x-umidtoken': 'T2gA1nUe5WtchVS-LzH1-5bfmkPbM3H9iKResKuqZtec7hQNSpf6nWHbQQmeVI8lHZg=',\n",
    "      'Origin': 'https://www.daraz.pk',\n",
    "      'Sec-Fetch-Dest': 'empty',\n",
    "      'Sec-Fetch-Mode': 'cors',\n",
    "      'Sec-Fetch-Site': 'same-site',\n",
    "      'Connection': 'keep-alive',\n",
    "      'Cookie': 'client_type=desktop; lzd_cid=84e83a78-34a6-4da2-b5e7-a164a8951837; lzd_sid=141515257fc9a944e43ddb748a8c9b62; tb_token=b75b5b3535e3; t_uid=8a1df5ec-d97a-4be6-a7a3-47ca331119c5; hng=PK^|en-PK^|PKR^|586; daraz-marketing-tracker=hide; _m_h5_tk=a1c38213952f987c26a6660c05c28c94_1696848598673; _m_h5_tk_enc=0e019ecd028ad2acb460163b8b28bc01; t_fv=1696840323487; t_sid=lPW7eWwhpJLOzQk7bNhH7jvisJ9gL6DQ; utm_channel=NA; cna=gqiqHRmawSkCAScrlqYBI/tv; _gcl_au=1.1.398551331.1696840325; _scid=04b6bee9-a69c-4cb2-8d10-b1b979fe3fd8; _ga_5L4FRV3KPW=GS1.1.1696840325.1.1.1696840692.53.0.0; _ga=GA1.2.512338883.1696840325; _ga_C6SBBPVWWK=GS1.1.1696840325.1.1.1696840685.60.0.0; isg=BOHh2ljIIJNTFYznCeNRPmfo8637jlWAJ6UAEUO0BOnnqgV8jdq9UOisDEYsee24; l=fB_A0n1HPxeb4JmMBO5CPurza77TaQRVGkPzaNbMiIEGC6vFsuptQaKQV7ubLpxRRBXPihYM401qQTJtqUhbJyMfSjH9ZGuhQLdBCe8B4yaIn; tfstk=dTbE11hmCaaL8H1eph-ezFueuVjJvE8Yh8bWFQflZB9HK2gIEGWAUQNKV_fuUdfkNpwJOLRlZdQ793ZLqNWOLesCt_grEd6g9L9WR_vkCtjBPT1HUb5PBHsCz_3yZ_X89LNL16CpyU2bhTzf96F9QxCF5lN9X-g8h-abl6CpyU2fAJkm3GWVdrgEynecMdbdxcz_Dy4e740l-HK9U8JH6BQa2HvVt0sNjORreC2bTaIEE0xnPCJb_5Pp-YPC.; _sctr=1^%^7C1696791600000; _gid=GA1.2.1350775697.1696840329; _tt_enable_cookie=1; _ttp=vkabzEkfA6jEfClqWRsdsGPWy-s; _fbp=fb.1.1696840329846.892443774; _scid_r=04b6bee9-a69c-4cb2-8d10-b1b979fe3fd8; client_type=desktop',\n",
    "      'TE': 'trailers'\n",
    "    }\n",
    "\n",
    "    response = requests.request(\"GET\", url, headers=headers, data=payload)\n",
    "\n",
    "#     print(response.text)\n",
    "    if response.status_code == 200:\n",
    "        import json\n",
    "        test = json.loads(response.text)\n",
    "        for i in test['model']['items']:\n",
    "            review_content = i['reviewContent']\n",
    "            if review_content:\n",
    "                print(review_content)\n",
    "        return review_content\n",
    "    else:\n",
    "        print(\"Error\")"
   ]
  },
  {
   "cell_type": "code",
   "execution_count": 2,
   "id": "55089d86",
   "metadata": {},
   "outputs": [
    {
     "name": "stdout",
     "output_type": "stream",
     "text": [
      "sir thanks you for laptop \n",
      "I'm not satisfied because without lenovo box ha or sth ma bag b ni jb k reviews ma with box or with bag dikhya gya is chrome py scratches bht hae \n",
      "زبردست چیز ہے تقریباً تین گھنٹے کی بیٹری ٹائمنگ ہے اونلائن کاروبار کے لیے زبردست چیز ہے سستا بھی ہے لیپ ٹاپ کی نسبت اور pubg گیم بھی چلتی ہے لیکن سلو چلتی ہے میموری بہت کم ہے اور سپیڈ بھی تھوڑی سی کم ہے لیپ ٹاپ کی نسبت باقی ٹھیک ہے اور گیم ٹھیک نہیں چلتی آپ نہ لیں\n",
      "I am Very satisfied, the product looks good and is working well, and the battery timing is superb 6 to 8 hours , I highly recommend this seller.100%satisfied.10/10 conditions.\n",
      "\n",
      "Amazing lenovo chromebook n23 superb battery backup and 10/10 condition but seller ne sath men beg nhi bheja hai chat pe kaha ke bhej rha hon per nahi tha baqi cheez achi hai mene is pe pubg bhi instal krke kheli hai good...\n",
      "thank you so much 😊 me very happy 😊😊 it's very nice 👍 jesa dekhaya wesa e hy\n",
      "Meri soch se bhi acha laptop ha. ❤️😍🥰 or seller ki taraf se bh acha response Mila ha. bag or charger bh sath diya ha seller ne. mene new year seal me order kia th. muje 11,000 ka Mila ha or mere lie amazing ye ha muje bag bh sath diya ha. me bohat zyda Khush Hun mne 3_4 days used kia ha very fast speed ha and everything Just perfect 😃😃.. play store bhi acha chlrha ha. tynks u so much daraz and seller.... 👍❤️😍🥰😃😃\n",
      "This Chromebook is Really Great and Slim Design Really Fast and Strong Battery Life around 6-7hours although it took 7 days to come but Im really Happy 🥰\n",
      "nice product .\n",
      "play store working\n",
      "8 hours battery timing\n",
      "all ok .\n",
      "thanks. seller thanks daraz\n",
      "#satisfied\n",
      "waoOoo. This is so useful.I wanna give 10 star's ⭐ to the seller and the product also. Very best in this price. charger quality is not Soo good but best in this price. Play Store works properly. Battery timing is also good 👍. No scratches on anywhere. every thing is in very well condition. Not broken anywhere. One camera use as a front, back also upward because it is rotatable. but it delivered to me after so many days and this is mistake of *daraz* not the mistake of *delivery boy.*\n",
      "super duper m boht dar gai thi qk mene pheli bar electronic device mangwai but daraz ka mtlb he bharosa h aj tk aesa ni hoa k mene inse kuch manga ho or inho ne change kiya hoa love u daraz thnk u daraz ir seller b thnk u \n",
      "مماشاءاللّٰه‎ بہت اچھی کوالٹی ہے۔ 9/10 کنڈیشن ہے۔ فاسٹ بوٹ ہورہا ہے۔ تمام پلےاسٹور کی ایپلیکیشن انسٹال ہورہی ہیں اور اچھے سے چل بھی رہی ہیں۔ لائٹ ویٹ ہے۔ بیٹری ٹائمنگ بھی بہت اچھی ہے۔\n",
      "Really good in condition ,👍👍👍👍satisfied\n",
      "This a best laptop for Lenovo. Color family: Black\n",
      "Lenovo N21 Chromebook -11.6\"-4GB Ram-16GB Rom with play store-Pubg Supported - \n",
      "best for kids\n",
      "\n",
      "fresh piece new and hd screen voice quality is so good charger bhi hai new hai all over highly recommend product must buy MashaAllah\n",
      "\n",
      "bohat acchi quality hy 💯 satisfied \n",
      "Bht bht bht zayda Acha hai expect nhi kiya tha mtlb k everything is just perfect main bht bht khush hu itni kum peso main play store bh chal rha hai battery timing bht zayda achi hai packing itni achi ki hui thi bht Acha hai Thanku so much Daraz 😭🫶🏻❤️❤️\n",
      "it was an amazing Chromebook ❤️\n",
      "very useful and very nice lenovo n21 Chromebook is very nice and very useful daraz shopping is very nice\n",
      "Highly recommended Excellent service this is my 2nd order Chromebook condition 10/10 all service is good fast delivery trusted seller thanks daraz❤❤❤\n",
      "very nice product it has one camera \n",
      "I am satisfied from this Chromebook 🥳🤩\n",
      "price ka mutabik crome book amazing hai because is ka \n",
      "sound\n",
      "betry health\n",
      "speed\n",
      "light screen\n",
      "sab khuch ok hai \n",
      "i will fully satisfied AlhamduniALLAH and I recommend\n",
      "♥️♥️\n",
      "\n",
      "Everything is fine just some scratches on the top and also screen panel border is not completely fit \n",
      "Otherwise perfect price perfect battery timing no more faults working good \n",
      "Bad experience. No return policy. I don't recommend you Chromebook. If you don't want to waste your money, you should buy laptop instead. \n",
      "It was excellent.. Quality is Good... But seller didn't send bag with laptop \n",
      "both acha hai I love this laptop many use karny k bd review deya month hony lagha h ma use kar rahi hu both acha h \n",
      "wese to bhtt acha h chal acha raha h just play store nhi chal raha...plz uska problem solve kardy\n",
      "very nice product I use 3 month very nice \n",
      "very nice leptop so beautiful so alegent just looking like a wow speed bhot ache ha\n",
      "Achi Chromebook Hay, Alhamdulillah I am satisfied ,Itnay kam peson me aor wo bhi installment pr Best hay, packing bhi bohot Carefully ki hui hay, men darr raha Kahin kharab na ho but overall i am happy \n",
      "Overall its good works fine... Only one leyboard arrow key starts working itself sometime.... dont know how to fix that... other than that works fine\n",
      "I'm very happy min na Socha na tha atna acha ho. ga thanks draz thanks seller god bless you 🥰🥰\n",
      "Update: He contact and apologize for Inconvenience, and also offer exchange.\n",
      "\n",
      "Everything is acceptable, except low battery timings, and the 0 rating for the seller who didn't even respond to my query.\n",
      "100 % Genuine Product,. Suprbbbb,. Honest and helpful seller, \n",
      "Laptop Lanovo N 21 a best condition and best work very well and thing strongle recominded i m very happy ,Mushtaq Ahmed baloch District Panjgur Balochistan.Excellent\n",
      "bohat acha laptop hay eyes band kr K Lalo\n",
      "\n",
      "best bht Acha hai ya Jo magway wo he cheza ai \n",
      "bht acha product h❤️ I'm satisfied\n",
      "\n",
      "the Chromebook is the best.arrived in good condition.am definitely ordering  another\n",
      "what a use ful machine best thing that I recevied yesterday  it is in best condition  and works very well and best thing I strongle reccmonded\n",
      "nice wasy bohat axa ha is main sab hi kam ha itna bura bhi nhi ha ya is so nice\n",
      "very Nice laptop💻 Thanks DARAZ ☺\n",
      "MashAllah KAfi Achi tha\n",
      "very nice and excellent product quality and excellent item I recommend to all thanks for daraz and sellers \n",
      "Really A Very Good Chromebook\n",
      "\n",
      "performance and quality is best condition also acceptable battery performance good in this price device is best\n",
      "The package was packed well and also included with a bag to carry chromebook however chromebook itself can be carried as a brief case thanks to the extra functionality of the product product was in very good condition it works well so far no issues performance price however the battery health was only 35 percent this is only concern that i had regarding the chromebook it should have been atleast 60 percent that is only con of the product still giving 5 stars considering the price but would highly recommend to send with a much better battery health \n",
      "all rubber pads are missing, google play store is not installed in chrome i not recommend to buy this thing in more than 11 thousand \n",
      "bohut acha laptope hain awz b to good hain chalta b kamal ka hain sab thk hain bas memory km hain 😔 but i m very happy 🤗 thanks daraz \n",
      "its too good the quality is awsome and the prize is amazing highly recommended trusted work\n",
      "really appretiate your business👍☺\n",
      "\n",
      "Reasonable price and working satisfactory. So far so good aagy bhi Allah kry sahi chaly.\n",
      "A O A \n",
      "thank you very much bro Allah pak apko or zaida kamyabiyan ata farmaye ilahi Ameen\n",
      "very good product\n",
      "\n",
      "best quality I would suggest to buy Chromebook and also seller is honest person.\n",
      "Excellent product first time order electric product battery time long good quality \n",
      "Best and amazing thing ❤️😍\n",
      "100 % Recommended, Helpful Seller, 2nd dafa order kiya, zabrdst product recve hui, Maa Sha Allah ,.\n",
      "excellent product recommended seller superb Battery timing excellent charger \n",
      "\n",
      " good umeed hy asa hi rhy bs thora used tha or lil bit scratches b thy battery timing bs ok hy phir b good\n",
      "Thank God for that \n",
      "Chromebook looking fine, repaired, battery timing not check yet charger ok.\n",
      "as you seen mai ny pucha ta sath bag aye ga to seller ny kaha ta yes but deliver nai kiya bag.\n",
      "ya achi baat nai\n",
      "good company... good people and supply good stuff...  very cooperative and supporting after sales \n",
      "satisfied found the same thing. hope to shop again\n",
      "I wathnt other orders delivery karao this is great item\n",
      "\n",
      "original product, same as described. it's worth it \n",
      "I am 100 % satisfied  about the product  thank you so much \n",
      "Baqi sb theek hai bs back side ka issue hai iska standing area dam hai chng ho skta hai kia\n",
      "minor issue tha seller was so cooperative wapisss kr diya order received refund thanku seller and daraaz 🕊️🕊️\n",
      "\n",
      "Note: this isn't alternative of laptop. it is more like a phone in functionality. good for watching YouTube. Battery time is around 5 hours. Got it for 8500 during 11/11 sale.\n",
      "reliable seller provide very good condition Chromebook \n",
      "This is very good\n",
      "excellent device received just like brand new \n",
      "thax daraz \n",
      "nic kmaal super dupperr se bhi upar \n",
      "Best Chromebook good experience delivered on time\n",
      "Bhot Acha laptop hai bacha bhot khush ho raha hai thank you seller & daraz\n",
      "It's Awesome...Am very very happy ☺️\n",
      "👍👍👍\n",
      "condition 10/10\n",
      "working fine\n",
      "super🥰❤️\n",
      "\n",
      "\n",
      "\n",
      "\n",
      "\n",
      "\n",
      "\n",
      "\n",
      "\n",
      "\n",
      "\n",
      "\n",
      "\n",
      "\n",
      "\n",
      " \n",
      "Just waooo\n",
      "\n",
      "I am satisfied with the product and recommend!!\n",
      "good product 👍 best seller but delivered too late\n",
      "good l like it\n",
      "thank daraz it's very good products very good condition thanks daraz.\n",
      "Thanks Seller for this lovely book, Appreciated their after sales services\n",
      "nice quality#nice packing#nice working\n",
      "بہت ہی شاندار لیپ ٹاپ ہے قابل تعریف ہے \n",
      "item was scratched. seems to be a piece of trash. i have asked for refund. total time waste experience. \n",
      "All good \n",
      "We get what we ordered thanks\n",
      "The product is good as described on daraz 👍\n",
      "excellent value for money\n",
      "liked it. best for study \n",
      "Packing was superb. Product quality also good\n",
      "very Good Chromebook \n",
      "used and many scratches on it \n",
      "good service \n",
      "\n",
      "used ha or cover bi nhi beja daba bi dosra ha orignel ni jo dkhaya tha\n",
      "Bht acha tha laptop \n"
     ]
    },
    {
     "data": {
      "text/plain": [
       "'Bht acha tha laptop '"
      ]
     },
     "execution_count": 2,
     "metadata": {},
     "output_type": "execute_result"
    }
   ],
   "source": [
    "url = 'https://www.daraz.pk/products/lenovo-n21n22-chromebook-116-4-gb-ram-16-gb-rom-with-play-store-pubg-supported-i374611935-s1857012794.html?spm=a2a0e.searchlistcategory.sku.4.9cf4516692wt82&search=1'\n",
    "\n",
    "processed_url  = process_url(url)\n",
    "request(processed_url)"
   ]
  },
  {
   "cell_type": "code",
   "execution_count": 1,
   "id": "92d12094",
   "metadata": {},
   "outputs": [
    {
     "name": "stdout",
     "output_type": "stream",
     "text": [
      "No CUDA GPU found in your device\n",
      "[2024-04-25 09:33:16] (2.4.1.post1) \u001b[31mPyABSA(2.4.1.post1): If your code crashes on Colab, please use the GPU runtime. Then run \"pip install pyabsa[dev] -U\" and restart the kernel.\n",
      "Or if it does not work, you can use v1.x versions, e.g., pip install pyabsa<2.0 -U\n",
      "\n",
      "\n",
      "\n",
      "\n",
      "WARNING: When you fails to load a checkpoint, e.g., Unexpected key(s),\n",
      "Try to downgrade transformers<=4.29.0.\n",
      "\n",
      "\n",
      "\n",
      "\u001b[0m\n"
     ]
    },
    {
     "name": "stderr",
     "output_type": "stream",
     "text": [
      "C:\\Users\\lenovo\\AppData\\Roaming\\Python\\Python311\\site-packages\\tensorflow\\python\\framework\\dtypes.py:35: DeprecationWarning: ml_dtypes.float8_e4m3b11 is deprecated. Use ml_dtypes.float8_e4m3b11fnuz\n",
      "  from tensorflow.tsl.python.lib.core import pywrap_ml_dtypes\n"
     ]
    },
    {
     "name": "stdout",
     "output_type": "stream",
     "text": [
      " * Serving Flask app '__main__'\n",
      " * Debug mode: off\n"
     ]
    },
    {
     "name": "stderr",
     "output_type": "stream",
     "text": [
      "C:\\Users\\lenovo\\AppData\\Roaming\\Python\\Python311\\site-packages\\sklearn\\base.py:318: UserWarning: Trying to unpickle estimator MultinomialNB from version 1.4.1.post1 when using version 1.2.2. This might lead to breaking code or invalid results. Use at your own risk. For more info please refer to:\n",
      "https://scikit-learn.org/stable/model_persistence.html#security-maintainability-limitations\n",
      "  warnings.warn(\n",
      "c:\\Program Files\\Python311\\Lib\\multiprocessing\\pool.py:268: ResourceWarning: unclosed running multiprocessing pool <multiprocessing.pool.Pool state=RUN pool_size=1>\n",
      "  _warn(f\"unclosed running multiprocessing pool {self!r}\",\n",
      "ResourceWarning: Enable tracemalloc to get the object allocation traceback\n",
      "C:\\Users\\lenovo\\AppData\\Roaming\\Python\\Python311\\site-packages\\sklearn\\base.py:318: UserWarning: Trying to unpickle estimator CountVectorizer from version 1.4.1.post1 when using version 1.2.2. This might lead to breaking code or invalid results. Use at your own risk. For more info please refer to:\n",
      "https://scikit-learn.org/stable/model_persistence.html#security-maintainability-limitations\n",
      "  warnings.warn(\n",
      "INFO:werkzeug:\u001b[31m\u001b[1mWARNING: This is a development server. Do not use it in a production deployment. Use a production WSGI server instead.\u001b[0m\n",
      " * Running on http://127.0.0.1:5000\n",
      "INFO:werkzeug:\u001b[33mPress CTRL+C to quit\u001b[0m\n",
      "INFO:werkzeug:127.0.0.1 - - [25/Apr/2024 10:47:39] \"OPTIONS /aspect_based_analysis HTTP/1.1\" 200 -\n",
      "DEBUG:urllib3.connectionpool:Starting new HTTPS connection (1): my.daraz.pk:443\n",
      "DEBUG:urllib3.connectionpool:https://my.daraz.pk:443 \"GET /pdp/review/getReviewList?itemId=451104523&pageSize=100 HTTP/1.1\" 200 None\n",
      "DEBUG:urllib3.connectionpool:Starting new HTTPS connection (1): huggingface.co:443\n",
      "DEBUG:urllib3.connectionpool:https://huggingface.co:443 \"GET /spaces/yangheng/PyABSA/raw/main/checkpoints-v2.0.json HTTP/1.1\" 200 15213\n",
      "DEBUG:urllib3.connectionpool:Starting new HTTPS connection (1): huggingface.co:443\n"
     ]
    },
    {
     "name": "stdout",
     "output_type": "stream",
     "text": [
      "[2024-04-25 10:47:43] (2.4.1.post1) ********** \u001b[32mAvailable ATEPC model checkpoints for Version:2.4.1.post1 (this version)\u001b[0m **********\n",
      "[2024-04-25 10:47:43] (2.4.1.post1) ********** \u001b[32mAvailable ATEPC model checkpoints for Version:2.4.1.post1 (this version)\u001b[0m **********\n",
      "[2024-04-25 10:47:43] (2.4.1.post1) \u001b[32mDownloading checkpoint:english \u001b[0m\n",
      "[2024-04-25 10:47:43] (2.4.1.post1) \u001b[31mNotice: The pretrained model are used for testing, it is recommended to train the model on your own custom datasets\u001b[0m\n",
      "[2024-04-25 10:47:43] (2.4.1.post1) Checkpoint already downloaded, skip\n",
      "[2024-04-25 10:47:43] (2.4.1.post1) Load aspect extractor from checkpoints\\ATEPC_ENGLISH_CHECKPOINT\\fast_lcf_atepc_English_cdw_apcacc_82.36_apcf1_81.89_atef1_75.43\n",
      "[2024-04-25 10:47:43] (2.4.1.post1) config: checkpoints\\ATEPC_ENGLISH_CHECKPOINT\\fast_lcf_atepc_English_cdw_apcacc_82.36_apcf1_81.89_atef1_75.43\\fast_lcf_atepc.config\n",
      "[2024-04-25 10:47:43] (2.4.1.post1) state_dict: checkpoints\\ATEPC_ENGLISH_CHECKPOINT\\fast_lcf_atepc_English_cdw_apcacc_82.36_apcf1_81.89_atef1_75.43\\fast_lcf_atepc.state_dict\n",
      "[2024-04-25 10:47:43] (2.4.1.post1) model: None\n",
      "[2024-04-25 10:47:43] (2.4.1.post1) tokenizer: checkpoints\\ATEPC_ENGLISH_CHECKPOINT\\fast_lcf_atepc_English_cdw_apcacc_82.36_apcf1_81.89_atef1_75.43\\fast_lcf_atepc.tokenizer\n",
      "[2024-04-25 10:47:43] (2.4.1.post1) Set Model Device: cpu\n",
      "[2024-04-25 10:47:43] (2.4.1.post1) Device Name: Unknown\n"
     ]
    },
    {
     "name": "stderr",
     "output_type": "stream",
     "text": [
      "DEBUG:urllib3.connectionpool:https://huggingface.co:443 \"HEAD /microsoft/deberta-v3-base/resolve/main/config.json HTTP/1.1\" 200 0\n",
      "DEBUG:urllib3.connectionpool:https://huggingface.co:443 \"HEAD /microsoft/deberta-v3-base/resolve/main/tokenizer_config.json HTTP/1.1\" 200 0\n",
      "C:\\Users\\lenovo\\AppData\\Roaming\\Python\\Python311\\site-packages\\transformers\\convert_slow_tokenizer.py:550: UserWarning: The sentencepiece tokenizer that you are converting to a fast tokenizer uses the byte fallback option which is not implemented in the fast tokenizers. In practice this means that the fast version of the tokenizer can produce unknown tokens whereas the sentencepiece version would have converted these unknown tokens into a sequence of byte tokens matching the original piece of text.\n",
      "  warnings.warn(\n",
      "C:\\Users\\lenovo\\AppData\\Roaming\\Python\\Python311\\site-packages\\pyabsa\\tasks\\AspectTermExtraction\\prediction\\aspect_extractor.py:593: UserWarning: Creating a tensor from a list of numpy.ndarrays is extremely slow. Please consider converting the list to a single numpy.ndarray with numpy.array() before converting to a tensor. (Triggered internally at ..\\torch\\csrc\\utils\\tensor_new.cpp:278.)\n",
      "  lcf_cdm_vec = torch.tensor(\n",
      "INFO:__main__:Review 1 - Aspect Extraction Result: {'sentence': 'Received my order in best packing . just plug and used . good working and expect will work good in future . Happy customer .', 'aspect': ['packing', 'working'], 'sentiment': ['Positive', 'Positive'], 'confidence': [[0.00020574625523295254, 0.0002768681733869016, 0.9995174407958984], [0.0002552828227635473, 0.00027714864700101316, 0.9994675517082214]]}\n"
     ]
    },
    {
     "name": "stdout",
     "output_type": "stream",
     "text": [
      "[2024-04-25 10:47:59] (2.4.1.post1) The results of aspect term extraction have been saved in c:\\Users\\lenovo\\Desktop\\Daraz_Reviews\\Aspect Term Extraction and Polarity Classification.FAST_LCF_ATEPC.result.json\n",
      "[2024-04-25 10:47:59] (2.4.1.post1) Example 0: Received my order in best \u001b[32m<packing:Positive Confidence:0.9995>\u001b[0m . just plug and used . good \u001b[32m<working:Positive Confidence:0.9995>\u001b[0m and expect will work good in future . Happy customer .\n"
     ]
    },
    {
     "name": "stderr",
     "output_type": "stream",
     "text": [
      "INFO:__main__:Review 2 - Aspect Extraction Result: {'sentence': 'Nicely packed . Great quality . Soundless and Quite printing with nice quality . Definitely recommended and worth of price product . Timely delivered . 100 % Recommended .', 'aspect': ['packed', 'quality', 'printing', 'delivered'], 'sentiment': ['Positive', 'Positive', 'Positive', 'Positive'], 'confidence': [[0.002475513843819499, 0.0002852837205864489, 0.9972392320632935], [0.002594203455373645, 0.00026551762130111456, 0.9971402883529663], [0.0007240705890581012, 0.00021041033323854208, 0.9990655779838562], [0.0002100773126585409, 0.0003364387957844883, 0.9994534850120544]]}\n"
     ]
    },
    {
     "name": "stdout",
     "output_type": "stream",
     "text": [
      "[2024-04-25 10:48:04] (2.4.1.post1) The results of aspect term extraction have been saved in c:\\Users\\lenovo\\Desktop\\Daraz_Reviews\\Aspect Term Extraction and Polarity Classification.FAST_LCF_ATEPC.result.json\n",
      "[2024-04-25 10:48:04] (2.4.1.post1) Example 0: Nicely \u001b[32m<packed:Positive Confidence:0.9972>\u001b[0m . Great \u001b[32m<quality:Positive Confidence:0.9971>\u001b[0m . Soundless and Quite \u001b[32m<printing:Positive Confidence:0.9991>\u001b[0m with nice quality . Definitely recommended and worth of price product . Timely \u001b[32m<delivered:Positive Confidence:0.9995>\u001b[0m . 100 % Recommended .\n"
     ]
    },
    {
     "name": "stderr",
     "output_type": "stream",
     "text": [
      "INFO:__main__:Review 3 - Aspect Extraction Result: {'sentence': 'Been using this model printer for years . Old one finally died , so wanted same model as replacement . Fast delivery , well packaged and protected . Just real simple \" plug and play \" setup . Quality / appearance of machine was great . Printing quality right from first print job also no issues at all .', 'aspect': ['delivery', 'setup', 'Quality / appearance of', 'Printing quality'], 'sentiment': ['Positive', 'Positive', 'Positive', 'Positive'], 'confidence': [[0.00029149308102205396, 0.0004663762520067394, 0.9992421865463257], [0.00021601299522444606, 0.00048544141463935375, 0.9992985725402832], [0.00013292593939695507, 0.0007862048223614693, 0.9990808963775635], [0.000190014106919989, 0.016048816964030266, 0.9837611317634583]]}\n",
      "ERROR:__main__:Error processing review 4: 'NoneType' object has no attribute 'strip'\n",
      "INFO:werkzeug:127.0.0.1 - - [25/Apr/2024 10:48:08] \"POST /aspect_based_analysis HTTP/1.1\" 200 -\n"
     ]
    },
    {
     "name": "stdout",
     "output_type": "stream",
     "text": [
      "[2024-04-25 10:48:08] (2.4.1.post1) The results of aspect term extraction have been saved in c:\\Users\\lenovo\\Desktop\\Daraz_Reviews\\Aspect Term Extraction and Polarity Classification.FAST_LCF_ATEPC.result.json\n",
      "[2024-04-25 10:48:08] (2.4.1.post1) Example 0: Been using this model printer for years . Old one finally died , so wanted same model as replacement . Fast \u001b[32m<delivery:Positive Confidence:0.9992>\u001b[0m , well packaged and protected . Just real simple \" plug and play \" \u001b[32m<setup:Positive Confidence:0.9993>\u001b[0m . \u001b[32m<Quality / appearance of:Positive Confidence:0.9991>\u001b[0m machine was great . \u001b[32m<Printing quality:Positive Confidence:0.9838>\u001b[0m right from first print job also no issues at all .\n"
     ]
    },
    {
     "name": "stderr",
     "output_type": "stream",
     "text": [
      "INFO:werkzeug:127.0.0.1 - - [25/Apr/2024 10:49:24] \"OPTIONS /get_reviews HTTP/1.1\" 200 -\n",
      "DEBUG:urllib3.connectionpool:Starting new HTTPS connection (1): my.daraz.pk:443\n",
      "DEBUG:urllib3.connectionpool:https://my.daraz.pk:443 \"GET /pdp/review/getReviewList?itemId=451104523&pageSize=100 HTTP/1.1\" 200 None\n",
      "INFO:werkzeug:127.0.0.1 - - [25/Apr/2024 10:49:26] \"POST /get_reviews HTTP/1.1\" 200 -\n"
     ]
    },
    {
     "name": "stdout",
     "output_type": "stream",
     "text": [
      "Truthful\n"
     ]
    },
    {
     "name": "stderr",
     "output_type": "stream",
     "text": [
      "INFO:werkzeug:127.0.0.1 - - [25/Apr/2024 10:51:19] \"OPTIONS /compare_products HTTP/1.1\" 200 -\n",
      "DEBUG:urllib3.connectionpool:Starting new HTTPS connection (1): my.daraz.pk:443\n",
      "DEBUG:urllib3.connectionpool:https://my.daraz.pk:443 \"GET /pdp/review/getReviewList?itemId=374611935&pageSize=100 HTTP/1.1\" 200 None\n",
      "DEBUG:urllib3.connectionpool:Starting new HTTPS connection (1): my.daraz.pk:443\n"
     ]
    },
    {
     "name": "stdout",
     "output_type": "stream",
     "text": [
      "Truthful\n"
     ]
    },
    {
     "name": "stderr",
     "output_type": "stream",
     "text": [
      "DEBUG:urllib3.connectionpool:https://my.daraz.pk:443 \"GET /pdp/review/getReviewList?itemId=456971396&pageSize=100 HTTP/1.1\" 200 None\n",
      "INFO:werkzeug:127.0.0.1 - - [25/Apr/2024 10:51:27] \"POST /compare_products HTTP/1.1\" 200 -\n"
     ]
    },
    {
     "name": "stdout",
     "output_type": "stream",
     "text": [
      "Truthful\n"
     ]
    },
    {
     "name": "stderr",
     "output_type": "stream",
     "text": [
      "INFO:werkzeug:127.0.0.1 - - [25/Apr/2024 11:05:48] \"OPTIONS /get_reviews HTTP/1.1\" 200 -\n",
      "DEBUG:urllib3.connectionpool:Starting new HTTPS connection (1): my.daraz.pk:443\n",
      "DEBUG:urllib3.connectionpool:https://my.daraz.pk:443 \"GET /pdp/review/getReviewList?itemId=374611935&pageSize=100 HTTP/1.1\" 200 None\n",
      "INFO:werkzeug:127.0.0.1 - - [25/Apr/2024 11:05:51] \"POST /get_reviews HTTP/1.1\" 200 -\n"
     ]
    },
    {
     "name": "stdout",
     "output_type": "stream",
     "text": [
      "Truthful\n"
     ]
    },
    {
     "name": "stderr",
     "output_type": "stream",
     "text": [
      "INFO:werkzeug:127.0.0.1 - - [25/Apr/2024 11:42:55] \"OPTIONS /get_reviews HTTP/1.1\" 200 -\n",
      "DEBUG:urllib3.connectionpool:Starting new HTTPS connection (1): my.daraz.pk:443\n",
      "DEBUG:urllib3.connectionpool:https://my.daraz.pk:443 \"GET /pdp/review/getReviewList?itemId=374611935&pageSize=100 HTTP/1.1\" 200 None\n",
      "INFO:werkzeug:127.0.0.1 - - [25/Apr/2024 11:42:58] \"POST /get_reviews HTTP/1.1\" 200 -\n"
     ]
    },
    {
     "name": "stdout",
     "output_type": "stream",
     "text": [
      "Truthful\n"
     ]
    },
    {
     "name": "stderr",
     "output_type": "stream",
     "text": [
      "INFO:werkzeug:127.0.0.1 - - [25/Apr/2024 11:46:36] \"OPTIONS /compare_products HTTP/1.1\" 200 -\n",
      "DEBUG:urllib3.connectionpool:Starting new HTTPS connection (1): my.daraz.pk:443\n",
      "DEBUG:urllib3.connectionpool:https://my.daraz.pk:443 \"GET /pdp/review/getReviewList?itemId=456971396&pageSize=100 HTTP/1.1\" 200 None\n",
      "DEBUG:urllib3.connectionpool:Starting new HTTPS connection (1): my.daraz.pk:443\n"
     ]
    },
    {
     "name": "stdout",
     "output_type": "stream",
     "text": [
      "Truthful\n"
     ]
    },
    {
     "name": "stderr",
     "output_type": "stream",
     "text": [
      "DEBUG:urllib3.connectionpool:https://my.daraz.pk:443 \"GET /pdp/review/getReviewList?itemId=374611935&pageSize=100 HTTP/1.1\" 200 None\n",
      "INFO:werkzeug:127.0.0.1 - - [25/Apr/2024 11:46:40] \"POST /compare_products HTTP/1.1\" 200 -\n"
     ]
    },
    {
     "name": "stdout",
     "output_type": "stream",
     "text": [
      "Truthful\n"
     ]
    },
    {
     "name": "stderr",
     "output_type": "stream",
     "text": [
      "INFO:werkzeug:127.0.0.1 - - [25/Apr/2024 12:47:14] \"OPTIONS /get_reviews HTTP/1.1\" 200 -\n",
      "DEBUG:urllib3.connectionpool:Starting new HTTPS connection (1): my.daraz.pk:443\n",
      "DEBUG:urllib3.connectionpool:https://my.daraz.pk:443 \"GET /pdp/review/getReviewList?itemId=451104523&pageSize=100 HTTP/1.1\" 200 None\n",
      "INFO:werkzeug:127.0.0.1 - - [25/Apr/2024 12:47:20] \"POST /get_reviews HTTP/1.1\" 200 -\n"
     ]
    },
    {
     "name": "stdout",
     "output_type": "stream",
     "text": [
      "Truthful\n"
     ]
    },
    {
     "name": "stderr",
     "output_type": "stream",
     "text": [
      "INFO:werkzeug:127.0.0.1 - - [25/Apr/2024 13:07:25] \"OPTIONS /get_reviews HTTP/1.1\" 200 -\n",
      "DEBUG:urllib3.connectionpool:Starting new HTTPS connection (1): my.daraz.pk:443\n",
      "DEBUG:urllib3.connectionpool:https://my.daraz.pk:443 \"GET /pdp/review/getReviewList?itemId=374611935&pageSize=100 HTTP/1.1\" 200 None\n",
      "INFO:werkzeug:127.0.0.1 - - [25/Apr/2024 13:07:27] \"POST /get_reviews HTTP/1.1\" 200 -\n"
     ]
    },
    {
     "name": "stdout",
     "output_type": "stream",
     "text": [
      "Truthful\n"
     ]
    },
    {
     "name": "stderr",
     "output_type": "stream",
     "text": [
      "INFO:werkzeug:127.0.0.1 - - [25/Apr/2024 13:15:10] \"OPTIONS /get_reviews HTTP/1.1\" 200 -\n",
      "DEBUG:urllib3.connectionpool:Starting new HTTPS connection (1): my.daraz.pk:443\n",
      "DEBUG:urllib3.connectionpool:https://my.daraz.pk:443 \"GET /pdp/review/getReviewList?itemId=374611935&pageSize=100 HTTP/1.1\" 200 None\n",
      "INFO:werkzeug:127.0.0.1 - - [25/Apr/2024 13:15:14] \"POST /get_reviews HTTP/1.1\" 200 -\n"
     ]
    },
    {
     "name": "stdout",
     "output_type": "stream",
     "text": [
      "Truthful\n"
     ]
    },
    {
     "name": "stderr",
     "output_type": "stream",
     "text": [
      "INFO:werkzeug:127.0.0.1 - - [25/Apr/2024 13:17:55] \"OPTIONS /compare_products HTTP/1.1\" 200 -\n",
      "DEBUG:urllib3.connectionpool:Starting new HTTPS connection (1): my.daraz.pk:443\n",
      "DEBUG:urllib3.connectionpool:Starting new HTTPS connection (1): my.daraz.pk:443\n",
      "DEBUG:urllib3.connectionpool:https://my.daraz.pk:443 \"GET /pdp/review/getReviewList?itemId=456971396&pageSize=100 HTTP/1.1\" 200 None\n",
      "DEBUG:urllib3.connectionpool:Starting new HTTPS connection (1): my.daraz.pk:443\n"
     ]
    },
    {
     "name": "stdout",
     "output_type": "stream",
     "text": [
      "Truthful\n"
     ]
    },
    {
     "name": "stderr",
     "output_type": "stream",
     "text": [
      "DEBUG:urllib3.connectionpool:https://my.daraz.pk:443 \"GET /pdp/review/getReviewList?itemId=451104523&pageSize=100 HTTP/1.1\" 200 None\n",
      "INFO:werkzeug:127.0.0.1 - - [25/Apr/2024 13:18:00] \"POST /compare_products HTTP/1.1\" 200 -\n"
     ]
    },
    {
     "name": "stdout",
     "output_type": "stream",
     "text": [
      "Truthful\n"
     ]
    },
    {
     "name": "stderr",
     "output_type": "stream",
     "text": [
      "DEBUG:urllib3.connectionpool:https://my.daraz.pk:443 \"GET /pdp/review/getReviewList?itemId=456971396&pageSize=100 HTTP/1.1\" 200 None\n",
      "DEBUG:urllib3.connectionpool:Starting new HTTPS connection (1): my.daraz.pk:443\n"
     ]
    },
    {
     "name": "stdout",
     "output_type": "stream",
     "text": [
      "Truthful\n"
     ]
    },
    {
     "name": "stderr",
     "output_type": "stream",
     "text": [
      "DEBUG:urllib3.connectionpool:https://my.daraz.pk:443 \"GET /pdp/review/getReviewList?itemId=451104523&pageSize=100 HTTP/1.1\" 200 None\n",
      "INFO:werkzeug:127.0.0.1 - - [25/Apr/2024 13:18:03] \"POST /compare_products HTTP/1.1\" 200 -\n"
     ]
    },
    {
     "name": "stdout",
     "output_type": "stream",
     "text": [
      "Truthful\n"
     ]
    },
    {
     "name": "stderr",
     "output_type": "stream",
     "text": [
      "INFO:werkzeug:127.0.0.1 - - [25/Apr/2024 13:24:22] \"OPTIONS /get_reviews HTTP/1.1\" 200 -\n",
      "DEBUG:urllib3.connectionpool:Starting new HTTPS connection (1): my.daraz.pk:443\n",
      "DEBUG:urllib3.connectionpool:https://my.daraz.pk:443 \"GET /pdp/review/getReviewList?itemId=451104523&pageSize=100 HTTP/1.1\" 200 None\n",
      "INFO:werkzeug:127.0.0.1 - - [25/Apr/2024 13:24:23] \"POST /get_reviews HTTP/1.1\" 200 -\n"
     ]
    },
    {
     "name": "stdout",
     "output_type": "stream",
     "text": [
      "Truthful\n"
     ]
    },
    {
     "name": "stderr",
     "output_type": "stream",
     "text": [
      "INFO:werkzeug:127.0.0.1 - - [27/Apr/2024 01:28:05] \"OPTIONS /get_reviews HTTP/1.1\" 200 -\n",
      "DEBUG:urllib3.connectionpool:Starting new HTTPS connection (1): my.daraz.pk:443\n",
      "DEBUG:urllib3.connectionpool:Starting new HTTPS connection (1): my.daraz.pk:443\n",
      "DEBUG:urllib3.connectionpool:https://my.daraz.pk:443 \"GET /pdp/review/getReviewList?itemId=465974757&pageSize=100 HTTP/1.1\" 200 None\n",
      "DEBUG:urllib3.connectionpool:https://my.daraz.pk:443 \"GET /pdp/review/getReviewList?itemId=465974757&pageSize=100 HTTP/1.1\" 200 None\n",
      "INFO:werkzeug:127.0.0.1 - - [27/Apr/2024 01:28:10] \"POST /get_reviews HTTP/1.1\" 200 -\n",
      "INFO:werkzeug:127.0.0.1 - - [27/Apr/2024 01:28:10] \"POST /get_reviews HTTP/1.1\" 200 -\n"
     ]
    },
    {
     "name": "stdout",
     "output_type": "stream",
     "text": [
      "Truthful\n",
      "Truthful\n"
     ]
    },
    {
     "name": "stderr",
     "output_type": "stream",
     "text": [
      "INFO:werkzeug:127.0.0.1 - - [27/Apr/2024 01:28:19] \"OPTIONS /aspect_based_analysis HTTP/1.1\" 200 -\n",
      "DEBUG:urllib3.connectionpool:Starting new HTTPS connection (1): my.daraz.pk:443\n",
      "DEBUG:urllib3.connectionpool:https://my.daraz.pk:443 \"GET /pdp/review/getReviewList?itemId=465974757&pageSize=100 HTTP/1.1\" 200 None\n",
      "DEBUG:urllib3.connectionpool:Starting new HTTPS connection (1): huggingface.co:443\n",
      "DEBUG:urllib3.connectionpool:https://huggingface.co:443 \"GET /spaces/yangheng/PyABSA/raw/main/checkpoints-v2.0.json HTTP/1.1\" 200 15213\n"
     ]
    },
    {
     "name": "stdout",
     "output_type": "stream",
     "text": [
      "[2024-04-27 01:28:23] (2.4.1.post1) ********** \u001b[32mAvailable ATEPC model checkpoints for Version:2.4.1.post1 (this version)\u001b[0m **********\n",
      "[2024-04-27 01:28:23] (2.4.1.post1) ********** \u001b[32mAvailable ATEPC model checkpoints for Version:2.4.1.post1 (this version)\u001b[0m **********\n",
      "[2024-04-27 01:28:23] (2.4.1.post1) \u001b[32mDownloading checkpoint:english \u001b[0m\n",
      "[2024-04-27 01:28:23] (2.4.1.post1) \u001b[31mNotice: The pretrained model are used for testing, it is recommended to train the model on your own custom datasets\u001b[0m\n",
      "[2024-04-27 01:28:23] (2.4.1.post1) Checkpoint already downloaded, skip\n",
      "[2024-04-27 01:28:23] (2.4.1.post1) Load aspect extractor from checkpoints\\ATEPC_ENGLISH_CHECKPOINT\\fast_lcf_atepc_English_cdw_apcacc_82.36_apcf1_81.89_atef1_75.43\n",
      "[2024-04-27 01:28:23] (2.4.1.post1) config: checkpoints\\ATEPC_ENGLISH_CHECKPOINT\\fast_lcf_atepc_English_cdw_apcacc_82.36_apcf1_81.89_atef1_75.43\\fast_lcf_atepc.config\n",
      "[2024-04-27 01:28:23] (2.4.1.post1) state_dict: checkpoints\\ATEPC_ENGLISH_CHECKPOINT\\fast_lcf_atepc_English_cdw_apcacc_82.36_apcf1_81.89_atef1_75.43\\fast_lcf_atepc.state_dict\n",
      "[2024-04-27 01:28:23] (2.4.1.post1) model: None\n",
      "[2024-04-27 01:28:23] (2.4.1.post1) tokenizer: checkpoints\\ATEPC_ENGLISH_CHECKPOINT\\fast_lcf_atepc_English_cdw_apcacc_82.36_apcf1_81.89_atef1_75.43\\fast_lcf_atepc.tokenizer\n",
      "[2024-04-27 01:28:23] (2.4.1.post1) Set Model Device: cpu\n",
      "[2024-04-27 01:28:23] (2.4.1.post1) Device Name: Unknown\n"
     ]
    },
    {
     "name": "stderr",
     "output_type": "stream",
     "text": [
      "DEBUG:urllib3.connectionpool:Starting new HTTPS connection (1): huggingface.co:443\n",
      "DEBUG:urllib3.connectionpool:https://huggingface.co:443 \"HEAD /microsoft/deberta-v3-base/resolve/main/config.json HTTP/1.1\" 200 0\n",
      "INFO:werkzeug:127.0.0.1 - - [27/Apr/2024 01:28:31] \"OPTIONS /aspect_based_analysis HTTP/1.1\" 200 -\n",
      "DEBUG:urllib3.connectionpool:Starting new HTTPS connection (1): my.daraz.pk:443\n",
      "DEBUG:urllib3.connectionpool:https://huggingface.co:443 \"HEAD /microsoft/deberta-v3-base/resolve/main/tokenizer_config.json HTTP/1.1\" 200 0\n",
      "DEBUG:urllib3.connectionpool:https://my.daraz.pk:443 \"GET /pdp/review/getReviewList?itemId=465974757&pageSize=100 HTTP/1.1\" 200 None\n",
      "INFO:werkzeug:127.0.0.1 - - [27/Apr/2024 01:28:42] \"OPTIONS /aspect_based_analysis HTTP/1.1\" 200 -\n",
      "DEBUG:urllib3.connectionpool:Starting new HTTPS connection (1): huggingface.co:443\n",
      "DEBUG:urllib3.connectionpool:Starting new HTTPS connection (1): my.daraz.pk:443\n",
      "DEBUG:urllib3.connectionpool:https://huggingface.co:443 \"GET /spaces/yangheng/PyABSA/raw/main/checkpoints-v2.0.json HTTP/1.1\" 200 15213\n"
     ]
    },
    {
     "name": "stdout",
     "output_type": "stream",
     "text": [
      "[2024-04-27 01:28:45] (2.4.1.post1) ********** \u001b[32mAvailable ATEPC model checkpoints for Version:2.4.1.post1 (this version)\u001b[0m **********\n",
      "[2024-04-27 01:28:45] (2.4.1.post1) ********** \u001b[32mAvailable ATEPC model checkpoints for Version:2.4.1.post1 (this version)\u001b[0m **********\n",
      "[2024-04-27 01:28:45] (2.4.1.post1) \u001b[32mDownloading checkpoint:english \u001b[0m\n",
      "[2024-04-27 01:28:45] (2.4.1.post1) \u001b[31mNotice: The pretrained model are used for testing, it is recommended to train the model on your own custom datasets\u001b[0m\n"
     ]
    },
    {
     "name": "stderr",
     "output_type": "stream",
     "text": [
      "C:\\Users\\lenovo\\AppData\\Roaming\\Python\\Python311\\site-packages\\transformers\\convert_slow_tokenizer.py:550: UserWarning: The sentencepiece tokenizer that you are converting to a fast tokenizer uses the byte fallback option which is not implemented in the fast tokenizers. In practice this means that the fast version of the tokenizer can produce unknown tokens whereas the sentencepiece version would have converted these unknown tokens into a sequence of byte tokens matching the original piece of text.\n",
      "  warnings.warn(\n",
      "DEBUG:urllib3.connectionpool:https://my.daraz.pk:443 \"GET /pdp/review/getReviewList?itemId=465974757&pageSize=100 HTTP/1.1\" 200 None\n",
      "DEBUG:urllib3.connectionpool:Starting new HTTPS connection (1): huggingface.co:443\n",
      "DEBUG:urllib3.connectionpool:Starting new HTTPS connection (1): huggingface.co:443\n"
     ]
    },
    {
     "name": "stdout",
     "output_type": "stream",
     "text": [
      "[2024-04-27 01:28:46] (2.4.1.post1) Checkpoint already downloaded, skip\n",
      "[2024-04-27 01:28:46] (2.4.1.post1) Load aspect extractor from checkpoints\\ATEPC_ENGLISH_CHECKPOINT\\fast_lcf_atepc_English_cdw_apcacc_82.36_apcf1_81.89_atef1_75.43\n",
      "[2024-04-27 01:28:46] (2.4.1.post1) config: checkpoints\\ATEPC_ENGLISH_CHECKPOINT\\fast_lcf_atepc_English_cdw_apcacc_82.36_apcf1_81.89_atef1_75.43\\fast_lcf_atepc.config\n",
      "[2024-04-27 01:28:46] (2.4.1.post1) state_dict: checkpoints\\ATEPC_ENGLISH_CHECKPOINT\\fast_lcf_atepc_English_cdw_apcacc_82.36_apcf1_81.89_atef1_75.43\\fast_lcf_atepc.state_dict\n",
      "[2024-04-27 01:28:46] (2.4.1.post1) model: None\n",
      "[2024-04-27 01:28:46] (2.4.1.post1) tokenizer: checkpoints\\ATEPC_ENGLISH_CHECKPOINT\\fast_lcf_atepc_English_cdw_apcacc_82.36_apcf1_81.89_atef1_75.43\\fast_lcf_atepc.tokenizer\n",
      "[2024-04-27 01:28:46] (2.4.1.post1) Set Model Device: cpu\n",
      "[2024-04-27 01:28:46] (2.4.1.post1) Device Name: Unknown\n"
     ]
    },
    {
     "name": "stderr",
     "output_type": "stream",
     "text": [
      "DEBUG:urllib3.connectionpool:https://huggingface.co:443 \"GET /spaces/yangheng/PyABSA/raw/main/checkpoints-v2.0.json HTTP/1.1\" 200 15213\n",
      "DEBUG:urllib3.connectionpool:Starting new HTTPS connection (1): huggingface.co:443\n"
     ]
    },
    {
     "name": "stdout",
     "output_type": "stream",
     "text": [
      "[2024-04-27 01:28:48] (2.4.1.post1) ********** \u001b[32mAvailable ATEPC model checkpoints for Version:2.4.1.post1 (this version)\u001b[0m **********\n",
      "[2024-04-27 01:28:48] (2.4.1.post1) ********** \u001b[32mAvailable ATEPC model checkpoints for Version:2.4.1.post1 (this version)\u001b[0m **********\n",
      "[2024-04-27 01:28:48] (2.4.1.post1) \u001b[32mDownloading checkpoint:english \u001b[0m\n",
      "[2024-04-27 01:28:48] (2.4.1.post1) \u001b[31mNotice: The pretrained model are used for testing, it is recommended to train the model on your own custom datasets\u001b[0m\n",
      "[2024-04-27 01:28:48] (2.4.1.post1) Checkpoint already downloaded, skip\n",
      "[2024-04-27 01:28:48] (2.4.1.post1) Load aspect extractor from checkpoints\\ATEPC_ENGLISH_CHECKPOINT\\fast_lcf_atepc_English_cdw_apcacc_82.36_apcf1_81.89_atef1_75.43\n",
      "[2024-04-27 01:28:48] (2.4.1.post1) config: checkpoints\\ATEPC_ENGLISH_CHECKPOINT\\fast_lcf_atepc_English_cdw_apcacc_82.36_apcf1_81.89_atef1_75.43\\fast_lcf_atepc.config\n",
      "[2024-04-27 01:28:48] (2.4.1.post1) state_dict: checkpoints\\ATEPC_ENGLISH_CHECKPOINT\\fast_lcf_atepc_English_cdw_apcacc_82.36_apcf1_81.89_atef1_75.43\\fast_lcf_atepc.state_dict\n",
      "[2024-04-27 01:28:48] (2.4.1.post1) model: None\n",
      "[2024-04-27 01:28:48] (2.4.1.post1) tokenizer: checkpoints\\ATEPC_ENGLISH_CHECKPOINT\\fast_lcf_atepc_English_cdw_apcacc_82.36_apcf1_81.89_atef1_75.43\\fast_lcf_atepc.tokenizer\n",
      "[2024-04-27 01:28:48] (2.4.1.post1) Set Model Device: cpu\n",
      "[2024-04-27 01:28:48] (2.4.1.post1) Device Name: Unknown\n"
     ]
    },
    {
     "name": "stderr",
     "output_type": "stream",
     "text": [
      "DEBUG:urllib3.connectionpool:https://huggingface.co:443 \"HEAD /microsoft/deberta-v3-base/resolve/main/config.json HTTP/1.1\" 200 0\n",
      "DEBUG:urllib3.connectionpool:https://huggingface.co:443 \"HEAD /microsoft/deberta-v3-base/resolve/main/config.json HTTP/1.1\" 200 0\n",
      "INFO:__main__:Review 1 - Aspect Extraction Result: {'sentence': 'NYC watch', 'aspect': ['watch'], 'sentiment': ['Neutral'], 'confidence': [[0.0003856240655295551, 0.9988448619842529, 0.0007694878149777651]]}\n"
     ]
    },
    {
     "name": "stdout",
     "output_type": "stream",
     "text": [
      "[2024-04-27 01:28:58] (2.4.1.post1) The results of aspect term extraction have been saved in c:\\Users\\lenovo\\Desktop\\Daraz_Reviews\\Aspect Term Extraction and Polarity Classification.FAST_LCF_ATEPC.result.json\n",
      "[2024-04-27 01:28:58] (2.4.1.post1) Example 0: NYC watch\n"
     ]
    },
    {
     "name": "stderr",
     "output_type": "stream",
     "text": [
      "DEBUG:urllib3.connectionpool:https://huggingface.co:443 \"HEAD /microsoft/deberta-v3-base/resolve/main/tokenizer_config.json HTTP/1.1\" 200 0\n",
      "DEBUG:urllib3.connectionpool:https://huggingface.co:443 \"HEAD /microsoft/deberta-v3-base/resolve/main/tokenizer_config.json HTTP/1.1\" 200 0\n",
      "INFO:__main__:Review 2 - Aspect Extraction Result: {'sentence': 'good', 'aspect': [], 'sentiment': [], 'confidence': []}\n"
     ]
    },
    {
     "name": "stdout",
     "output_type": "stream",
     "text": [
      "[2024-04-27 01:29:22] (2.4.1.post1) The results of aspect term extraction have been saved in c:\\Users\\lenovo\\Desktop\\Daraz_Reviews\\Aspect Term Extraction and Polarity Classification.FAST_LCF_ATEPC.result.json\n",
      "[2024-04-27 01:29:22] (2.4.1.post1) Example 0: good\n"
     ]
    },
    {
     "name": "stderr",
     "output_type": "stream",
     "text": [
      "INFO:__main__:Review 3 - Aspect Extraction Result: {'sentence': 'Good', 'aspect': [], 'sentiment': [], 'confidence': []}\n",
      "ERROR:__main__:Error processing review 4: 'NoneType' object has no attribute 'strip'\n"
     ]
    },
    {
     "name": "stdout",
     "output_type": "stream",
     "text": [
      "[2024-04-27 01:29:33] (2.4.1.post1) The results of aspect term extraction have been saved in c:\\Users\\lenovo\\Desktop\\Daraz_Reviews\\Aspect Term Extraction and Polarity Classification.FAST_LCF_ATEPC.result.json\n",
      "[2024-04-27 01:29:33] (2.4.1.post1) Example 0: Good\n"
     ]
    },
    {
     "name": "stderr",
     "output_type": "stream",
     "text": [
      "INFO:__main__:Review 1 - Aspect Extraction Result: {'sentence': 'NYC watch', 'aspect': ['watch'], 'sentiment': ['Neutral'], 'confidence': [[0.0003856240655295551, 0.9988448619842529, 0.0007694878149777651]]}\n"
     ]
    },
    {
     "name": "stdout",
     "output_type": "stream",
     "text": [
      "[2024-04-27 01:29:37] (2.4.1.post1) The results of aspect term extraction have been saved in c:\\Users\\lenovo\\Desktop\\Daraz_Reviews\\Aspect Term Extraction and Polarity Classification.FAST_LCF_ATEPC.result.json\n",
      "[2024-04-27 01:29:37] (2.4.1.post1) Example 0: NYC watch\n"
     ]
    },
    {
     "name": "stderr",
     "output_type": "stream",
     "text": [
      "INFO:__main__:Review 1 - Aspect Extraction Result: {'sentence': 'NYC watch', 'aspect': ['watch'], 'sentiment': ['Neutral'], 'confidence': [[0.0003856240655295551, 0.9988448619842529, 0.0007694878149777651]]}\n"
     ]
    },
    {
     "name": "stdout",
     "output_type": "stream",
     "text": [
      "[2024-04-27 01:29:39] (2.4.1.post1) The results of aspect term extraction have been saved in c:\\Users\\lenovo\\Desktop\\Daraz_Reviews\\Aspect Term Extraction and Polarity Classification.FAST_LCF_ATEPC.result.json\n",
      "[2024-04-27 01:29:39] (2.4.1.post1) Example 0: NYC watch\n"
     ]
    },
    {
     "name": "stderr",
     "output_type": "stream",
     "text": [
      "INFO:__main__:Review 2 - Aspect Extraction Result: {'sentence': 'good', 'aspect': [], 'sentiment': [], 'confidence': []}\n"
     ]
    },
    {
     "name": "stdout",
     "output_type": "stream",
     "text": [
      "[2024-04-27 01:29:48] (2.4.1.post1) The results of aspect term extraction have been saved in c:\\Users\\lenovo\\Desktop\\Daraz_Reviews\\Aspect Term Extraction and Polarity Classification.FAST_LCF_ATEPC.result.json\n",
      "[2024-04-27 01:29:48] (2.4.1.post1) Example 0: good\n"
     ]
    },
    {
     "name": "stderr",
     "output_type": "stream",
     "text": [
      "INFO:__main__:Review 2 - Aspect Extraction Result: {'sentence': 'good', 'aspect': [], 'sentiment': [], 'confidence': []}\n"
     ]
    },
    {
     "name": "stdout",
     "output_type": "stream",
     "text": [
      "[2024-04-27 01:29:54] (2.4.1.post1) The results of aspect term extraction have been saved in c:\\Users\\lenovo\\Desktop\\Daraz_Reviews\\Aspect Term Extraction and Polarity Classification.FAST_LCF_ATEPC.result.json\n",
      "[2024-04-27 01:29:54] (2.4.1.post1) Example 0: good\n"
     ]
    },
    {
     "name": "stderr",
     "output_type": "stream",
     "text": [
      "INFO:__main__:Review 5 - Aspect Extraction Result: {'sentence': 'battery time is very bad', 'aspect': ['battery'], 'sentiment': ['Negative'], 'confidence': [[0.9989515542984009, 0.0006830710335634649, 0.000365357322152704]]}\n",
      "ERROR:__main__:Error processing review 6: 'NoneType' object has no attribute 'strip'\n",
      "ERROR:__main__:Error processing review 7: 'NoneType' object has no attribute 'strip'\n",
      "ERROR:__main__:Error processing review 8: 'NoneType' object has no attribute 'strip'\n",
      "ERROR:__main__:Error processing review 9: 'NoneType' object has no attribute 'strip'\n"
     ]
    },
    {
     "name": "stdout",
     "output_type": "stream",
     "text": [
      "[2024-04-27 01:29:57] (2.4.1.post1) The results of aspect term extraction have been saved in c:\\Users\\lenovo\\Desktop\\Daraz_Reviews\\Aspect Term Extraction and Polarity Classification.FAST_LCF_ATEPC.result.json\n",
      "[2024-04-27 01:29:57] (2.4.1.post1) Example 0: battery time is very bad\n"
     ]
    },
    {
     "name": "stderr",
     "output_type": "stream",
     "text": [
      "INFO:werkzeug:127.0.0.1 - - [27/Apr/2024 01:29:58] \"POST /aspect_based_analysis HTTP/1.1\" 200 -\n",
      "INFO:__main__:Review 3 - Aspect Extraction Result: {'sentence': 'Good', 'aspect': [], 'sentiment': [], 'confidence': []}\n",
      "ERROR:__main__:Error processing review 4: 'NoneType' object has no attribute 'strip'\n"
     ]
    },
    {
     "name": "stdout",
     "output_type": "stream",
     "text": [
      "[2024-04-27 01:30:00] (2.4.1.post1) The results of aspect term extraction have been saved in c:\\Users\\lenovo\\Desktop\\Daraz_Reviews\\Aspect Term Extraction and Polarity Classification.FAST_LCF_ATEPC.result.json\n",
      "[2024-04-27 01:30:00] (2.4.1.post1) Example 0: Good\n"
     ]
    },
    {
     "name": "stderr",
     "output_type": "stream",
     "text": [
      "INFO:__main__:Review 3 - Aspect Extraction Result: {'sentence': 'Good', 'aspect': [], 'sentiment': [], 'confidence': []}\n",
      "ERROR:__main__:Error processing review 4: 'NoneType' object has no attribute 'strip'\n"
     ]
    },
    {
     "name": "stdout",
     "output_type": "stream",
     "text": [
      "[2024-04-27 01:30:06] (2.4.1.post1) The results of aspect term extraction have been saved in c:\\Users\\lenovo\\Desktop\\Daraz_Reviews\\Aspect Term Extraction and Polarity Classification.FAST_LCF_ATEPC.result.json\n",
      "[2024-04-27 01:30:06] (2.4.1.post1) Example 0: Good\n"
     ]
    },
    {
     "name": "stderr",
     "output_type": "stream",
     "text": [
      "INFO:__main__:Review 5 - Aspect Extraction Result: {'sentence': 'battery time is very bad', 'aspect': ['battery'], 'sentiment': ['Negative'], 'confidence': [[0.9989515542984009, 0.0006830710335634649, 0.000365357322152704]]}\n",
      "ERROR:__main__:Error processing review 6: 'NoneType' object has no attribute 'strip'\n",
      "ERROR:__main__:Error processing review 7: 'NoneType' object has no attribute 'strip'\n",
      "ERROR:__main__:Error processing review 8: 'NoneType' object has no attribute 'strip'\n",
      "ERROR:__main__:Error processing review 9: 'NoneType' object has no attribute 'strip'\n"
     ]
    },
    {
     "name": "stdout",
     "output_type": "stream",
     "text": [
      "[2024-04-27 01:30:14] (2.4.1.post1) The results of aspect term extraction have been saved in c:\\Users\\lenovo\\Desktop\\Daraz_Reviews\\Aspect Term Extraction and Polarity Classification.FAST_LCF_ATEPC.result.json\n",
      "[2024-04-27 01:30:14] (2.4.1.post1) Example 0: battery time is very bad\n"
     ]
    },
    {
     "name": "stderr",
     "output_type": "stream",
     "text": [
      "INFO:werkzeug:127.0.0.1 - - [27/Apr/2024 01:30:15] \"POST /aspect_based_analysis HTTP/1.1\" 200 -\n",
      "INFO:__main__:Review 5 - Aspect Extraction Result: {'sentence': 'battery time is very bad', 'aspect': ['battery'], 'sentiment': ['Negative'], 'confidence': [[0.9989515542984009, 0.0006830710335634649, 0.000365357322152704]]}\n",
      "ERROR:__main__:Error processing review 6: 'NoneType' object has no attribute 'strip'\n",
      "ERROR:__main__:Error processing review 7: 'NoneType' object has no attribute 'strip'\n",
      "ERROR:__main__:Error processing review 8: 'NoneType' object has no attribute 'strip'\n",
      "ERROR:__main__:Error processing review 9: 'NoneType' object has no attribute 'strip'\n"
     ]
    },
    {
     "name": "stdout",
     "output_type": "stream",
     "text": [
      "[2024-04-27 01:30:16] (2.4.1.post1) The results of aspect term extraction have been saved in c:\\Users\\lenovo\\Desktop\\Daraz_Reviews\\Aspect Term Extraction and Polarity Classification.FAST_LCF_ATEPC.result.json\n",
      "[2024-04-27 01:30:16] (2.4.1.post1) Example 0: battery time is very bad\n"
     ]
    },
    {
     "name": "stderr",
     "output_type": "stream",
     "text": [
      "INFO:werkzeug:127.0.0.1 - - [27/Apr/2024 01:30:16] \"POST /aspect_based_analysis HTTP/1.1\" 200 -\n"
     ]
    }
   ],
   "source": [
    "from flask import Flask, render_template, request, jsonify\n",
    "from sklearn.naive_bayes import MultinomialNB\n",
    "from sklearn.feature_extraction.text import CountVectorizer\n",
    "from flask_cors import CORS\n",
    "import joblib\n",
    "import requests\n",
    "import json\n",
    "from googletrans import Translator\n",
    "translator = Translator()\n",
    "from pyabsa import ATEPCCheckpointManager\n",
    "import logging\n",
    "\n",
    "app = Flask(__name__)\n",
    "\n",
    "# Initialize logger\n",
    "logging.basicConfig(level=logging.DEBUG)\n",
    "logger = logging.getLogger(__name__)\n",
    "\n",
    "# Load the trained model and vectorizer\n",
    "naive_bayes = joblib.load('naive_bayes_model_2.joblib')\n",
    "count_vectorizer = joblib.load('count_vectorizer_2.joblib')\n",
    "naive_bayes_2 = joblib.load('naive_bayes_model_2.joblib')\n",
    "count_vectorizer_2 = joblib.load('count_vectorizer_2.joblib')\n",
    "reviews_data = []\n",
    "CORS(app)\n",
    "\n",
    "def process_url(url):\n",
    "    item_id = url.split('html')[0].split('-')[-2].replace('i','')\n",
    "    url = f\"https://my.daraz.pk/pdp/review/getReviewList?itemId={item_id}&pageSize=100\"\n",
    "    return url\n",
    "\n",
    "def get_reviews(url):\n",
    "    payload = {}\n",
    "    headers = {\n",
    "      'User-Agent': 'Mozilla/5.0 (Windows NT 10.0; Win64; x64; rv:109.0) Gecko/20100101 Firefox/118.0',\n",
    "      'Accept': 'application/json, text/plain, */*',\n",
    "      'Accept-Language': 'en-US,en;q=0.5',\n",
    "      'Accept-Encoding': 'gzip, deflate, br',\n",
    "      'Referer': 'https://www.daraz.pk/',\n",
    "      'X-CSRF-TOKEN': 'b75b5b3535e3',\n",
    "      'X-Requested-With': 'XMLHttpRequest',\n",
    "      'x-ua': '140^#YBODdazEzzPYKQo2LxAQCpN8dR5pRSgMpAePFSwQGvb+GMJDc6+Ww4nebK9JYkGPllwhdTJdg8GLgu31KN8bFkOprmoqlbzxhSLtJ8+IzzcXG1NVl3MzzPzbVXl/lbC7LWYnDuSq7bX14mUTU6SxzoObV2EqlttH2PH+gzrQGmKIPtrPHpcDmKnPNIICq1e8dIiUySV3S4cLv7UJkzppgwbKu6pO0mUZ8gzxDKebaCiYxZD9A5V9bMZMzcx8Mj3jBU3fR3yvL5ECDW2du3ZCl7F92oLMpjq3QnnFr6jPuXqILtmSlq2UzTUZdHKjDecIyV1+f8uvNEpF9LdzeubhTYMXaBMr/woOYYtAP94j61HLOi0BPNwx/qtzoygppBhRlBSjAeKOzsMrMoWzAd45NEiceJp5riGRc7Oyb2oruOY0zsN9J3tC1LDV3G4cdizK3jFrFt+juzqVG9Ap5qJ5edJEdaOxrNa8gprcj9ZULKHwHXaaOiZSnSyK4ZtV51SD+fJO/S/Rj+iIAgkAKSV+XTWDKQ2W2cRAASUx+8T7kiY7dhzSKtRETzd2asjC4GIjT4FKJ+zKrzNaNDfoAtmz18ZJH70Yjz1AA0yJbjUOFcCjQ7iG0yXocZe27s+FWbUhtBisFmMfzBoGaQzQYItDILJizZIKKGwH3LhG/65CPS/8y7TaJi4uN185G/8QNZwiCMmJV/c2b9/B36YXsnfdR9zfbr1lJI0niDyuXjkwoZzAPvQGB+I9xgFUpw6XO+KO89P96ZiUeQHzXBYVIomLefGgiUWHZf7Fgt2z7/isNGDvOqx+sFTjOl0ui3EJD6vUN8jguIMxoR1GKBuyYeL/FFjpJT7TkZT+eL9F7UiStIrN52EFTdqcZ7n71G5Pcc9irmmgu2F0zv2fonZBlOJVu3V2Ul1TOEEWGlOvnuBGu+VxP4EI8x7e9qDVS89p/0woxXO8eILKFZ7JtEv7dNsWqfuIkItQ6u5NeqDOFuC8LvBzwBwK99kGWVAvBuq6Ti1Yvq73PE910wKZjOdDntC8GqpJgi3sloi8gaZOIg7Bq3It+fr=',\n",
    "      'x-umidtoken': 'T2gA1nUe5WtchVS-LzH1-5bfmkPbM3H9iKResKuqZtec7hQNSpf6nWHbQQmeVI8lHZg=',\n",
    "      'Origin': 'https://www.daraz.pk',\n",
    "      'Sec-Fetch-Dest': 'empty',\n",
    "      'Sec-Fetch-Mode': 'cors',\n",
    "      'Sec-Fetch-Site': 'same-site',\n",
    "      'Connection': 'keep-alive',\n",
    "      'Cookie': 'client_type=desktop; lzd_cid=84e83a78-34a6-4da2-b5e7-a164a8951837; lzd_sid=141515257fc9a944e43ddb748a8c9b62; tb_token=b75b5b3535e3; t_uid=8a1df5ec-d97a-4be6-a7a3-47ca331119c5; hng=PK^|en-PK^|PKR^|586; daraz-marketing-tracker=hide; _m_h5_tk=a1c38213952f987c26a6660c05c28c94_1696848598673; _m_h5_tk_enc=0e019ecd028ad2acb460163b8b28bc01; t_fv=1696840323487; t_sid=lPW7eWwhpJLOzQk7bNhH7jvisJ9gL6DQ; utm_channel=NA; cna=gqiqHRmawSkCAScrlqYBI/tv; _gcl_au=1.1.398551331.1696840325; _scid=04b6bee9-a69c-4cb2-8d10-b1b979fe3fd8; _ga_5L4FRV3KPW=GS1.1.1696840325.1.1.1696840692.53.0.0; _ga=GA1.2.512338883.1696840325; _ga_C6SBBPVWWK=GS1.1.1696840325.1.1.1696840685.60.0.0; isg=BOHh2ljIIJNTFYznCeNRPmfo8637jlWAJ6UAEUO0BOnnqgV8jdq9UOisDEYsee24; l=fB_A0n1HPxeb4JmMBO5CPurza77TaQRVGkPzaNbMiIEGC6vFsuptQaKQV7ubLpxRRBXPihYM401qQTJtqUhbJyMfSjH9ZGuhQLdBCe8B4yaIn; tfstk=dTbE11hmCaaL8H1eph-ezFueuVjJvE8Yh8bWFQflZB9HK2gIEGWAUQNKV_fuUdfkNpwJOLRlZdQ793ZLqNWOLesCt_grEd6g9L9WR_vkCtjBPT1HUb5PBHsCz_3yZ_X89LNL16CpyU2bhTzf96F9QxCF5lN9X-g8h-abl6CpyU2fAJkm3GWVdrgEynecMdbdxcz_Dy4e740l-HK9U8JH6BQa2HvVt0sNjORreC2bTaIEE0xnPCJb_5Pp-YPC.; _sctr=1^%^7C1696791600000; _gid=GA1.2.1350775697.1696840329; _tt_enable_cookie=1; _ttp=vkabzEkfA6jEfClqWRsdsGPWy-s; _fbp=fb.1.1696840329846.892443774; _scid_r=04b6bee9-a69c-4cb2-8d10-b1b979fe3fd8; client_type=desktop',\n",
    "      'TE': 'trailers'\n",
    "    }\n",
    "\n",
    "    response = requests.request(\"GET\", url, headers=headers, data=payload)\n",
    "\n",
    "    if response.status_code == 200:\n",
    "        reviews = []\n",
    "        data = json.loads(response.text)\n",
    "        for item in data['model']['items']:\n",
    "            review_content = item['reviewContent']\n",
    "            if review_content:\n",
    "                reviews.append(review_content)\n",
    "        predictions = []\n",
    "        for user_input in reviews_data:\n",
    "            my_test_data = count_vectorizer.transform([user_input])\n",
    "            prediction = naive_bayes.predict(my_test_data)[0]\n",
    "            print(my_test_data)\n",
    "            predictions.append(prediction)\n",
    "        # Count the occurrences of '1' in predictions\n",
    "        count_1 = predictions.count(1)\n",
    "        count_2 = predictions.count(0)\n",
    "        \n",
    "        # Make the decision based on the count\n",
    "        if count_1 >= count_2:\n",
    "            print(\"Truthful\")\n",
    "        else:\n",
    "            print(\"Deceptive\")\n",
    "        \n",
    "        return reviews\n",
    "    else:\n",
    "        return None\n",
    "    \n",
    "@app.route('/')\n",
    "def index():\n",
    "    return render_template('index.html')\n",
    "\n",
    "\n",
    "@app.route('/aspect_based_analysis', methods=['POST'])\n",
    "def aspect_based_analysis():\n",
    "    try:\n",
    "        data = request.get_json()\n",
    "        url = data['url']\n",
    "        processed_url = process_url(url)\n",
    "        reviews = fetch_reviews(processed_url)\n",
    "\n",
    "        if reviews:\n",
    "            aspect_extractor = ATEPCCheckpointManager.get_aspect_extractor(checkpoint='english', auto_device=True)\n",
    "            results = []\n",
    "            for idx, review in enumerate(reviews, 1):\n",
    "                try:\n",
    "                    ate_result = aspect_extractor.extract_aspect(inference_source=[review], pred_sentiment=True)\n",
    "                    result = {\n",
    "                        'sentence': ate_result[0]['sentence'],\n",
    "                        'aspect': ate_result[0]['aspect'],\n",
    "                        'sentiment': ate_result[0]['sentiment'],\n",
    "                        'confidence': ate_result[0]['probs']\n",
    "                    }\n",
    "                    results.append(result)\n",
    "                    app.logger.info(f\"Review {idx} - Aspect Extraction Result: {result}\")\n",
    "                except Exception as e:\n",
    "                    app.logger.error(f\"Error processing review {idx}: {e}\")\n",
    "            return jsonify({\"aspect_extraction_results\": results})\n",
    "        else:\n",
    "            return jsonify({\"error\": \"Failed to fetch reviews.\"})\n",
    "    except Exception as e:\n",
    "        app.logger.error(f\"An error occurred: {e}\")\n",
    "        return jsonify({\"error\": \"Internal Server Error\"}), 500\n",
    "\n",
    "\n",
    "# Function to process Daraz URL\n",
    "def process_url(url):\n",
    "    item_id = url.split('html')[0].split('-')[-2].replace('i','')\n",
    "    url = f\"https://my.daraz.pk/pdp/review/getReviewList?itemId={item_id}&pageSize=100\"\n",
    "    return url\n",
    "\n",
    "# Function to request reviews from Daraz API\n",
    "def fetch_reviews(url):\n",
    "    headers = {\n",
    "        'User-Agent': 'Mozilla/5.0 (Windows NT 10.0; Win64; x64; rv:109.0) Gecko/20100101 Firefox/118.0',\n",
    "        'Accept': 'application/json, text/plain, */*',\n",
    "        'Accept-Language': 'en-US,en;q=0.5',\n",
    "    }\n",
    "\n",
    "    response = requests.get(url, headers=headers)\n",
    "\n",
    "    if response.status_code == 200:\n",
    "        data = response.json()\n",
    "        reviews = [item['reviewContent'] for item in data['model']['items'] if 'reviewContent' in item]\n",
    "        return reviews\n",
    "    else:\n",
    "        logger.error(\"Error fetching reviews\")\n",
    "        return None\n",
    "    \n",
    "\n",
    "\n",
    "@app.route('/compare_products', methods=['POST'])\n",
    "def compare_products():\n",
    "    data = request.get_json()\n",
    "    urls = data['urls']  # Expecting an array of URLs\n",
    "\n",
    "    # Structure to hold the results\n",
    "    comparison_results = {\n",
    "        'products': [],\n",
    "        'summary': {\n",
    "            'most_positive': None,\n",
    "            'most_negative': None\n",
    "        }\n",
    "    }\n",
    "\n",
    "    all_sentiments = []\n",
    "\n",
    "    for url in urls:\n",
    "        processed_url = process_url(url)\n",
    "        reviews = get_reviews(processed_url)\n",
    "        if reviews:\n",
    "            predictions = []\n",
    "            sentiments = []\n",
    "            for user_input in reviews:\n",
    "                my_test_data = count_vectorizer.transform([user_input])\n",
    "                prediction = naive_bayes.predict(my_test_data)[0]\n",
    "                my_test_data_2 = count_vectorizer_2.transform([user_input])\n",
    "                sentiment = naive_bayes_2.predict(my_test_data_2)[0]\n",
    "                predictions.append(prediction)\n",
    "                sentiments.append(sentiment)\n",
    "            \n",
    "            if sentiments:\n",
    "                average_sentiment = sum(sentiments) / len(sentiments)\n",
    "            else:\n",
    "                average_sentiment = None\n",
    "\n",
    "            comparison_results['products'].append({\n",
    "                'url': url,\n",
    "                'average_sentiment': average_sentiment\n",
    "            })\n",
    "\n",
    "            all_sentiments.append(average_sentiment)\n",
    "\n",
    "    # Example summary calculation\n",
    "    if all_sentiments:\n",
    "        comparison_results['summary']['most_positive'] = max(all_sentiments)\n",
    "        comparison_results['summary']['most_negative'] = min(all_sentiments)\n",
    "\n",
    "    return jsonify(comparison_results)\n",
    "\n",
    "\n",
    "@app.route('/get_reviews', methods=['POST'])\n",
    "def get_reviews_route():\n",
    "    global reviews_data\n",
    "    if request.method == 'POST':\n",
    "        data = request.get_json()\n",
    "        url = data['url']\n",
    "        processed_url = process_url(url)\n",
    "        reviews = get_reviews(processed_url)\n",
    "        \n",
    "\n",
    "        if reviews:\n",
    "            predictions = []\n",
    "            sentiment = []\n",
    "#             translated_reviews = {\"original\": [], \"translated\": []}\n",
    "            for user_input in reviews:\n",
    "                my_test_data = count_vectorizer.transform([user_input])\n",
    "                prediction = naive_bayes.predict(my_test_data)[0]\n",
    "                my_test_data_2 = count_vectorizer_2.transform([user_input])\n",
    "                prediction_2 = naive_bayes_2.predict(my_test_data_2)[0]\n",
    "                predictions.append(prediction)\n",
    "                sentiment.append(prediction_2)\n",
    "                # # Translate the review\n",
    "#                 translated_review = translator.translate(user_input, dest='en').text\n",
    "#                 translated_reviews[\"original\"].append(user_input)\n",
    "#                 print(\"\\n\")\n",
    "#                 print(\"\\n\")\n",
    "#                 print(\"\\n\")\n",
    "#                 translated_reviews[\"translated\"].append(translated_review)\n",
    "\n",
    "            # Count the occurrences of '1' in predictions\n",
    "            count_1 = predictions.count(1)\n",
    "            count_2 = predictions.count(0)\n",
    "            # Make the decision based on the count\n",
    "            result = \"Truthful\" if count_1 < count_2 else \"Deceptive\"\n",
    "            # Calculate average sentiment\n",
    "            if sentiment:\n",
    "                average_sentiment = sum(sentiment) / len(sentiment)\n",
    "            else:\n",
    "                average_sentiment = None\n",
    "\n",
    "            # Return result to the frontend\n",
    "            return jsonify({\"result\": result, \"average_sentiment\": average_sentiment})\n",
    "\n",
    "        else:\n",
    "            return jsonify({\"error\": \"Failed to fetch reviews.\"})\n",
    "\n",
    "if __name__ == '__main__':\n",
    "    app.run(port=5000)"
   ]
  },
  {
   "cell_type": "code",
   "execution_count": null,
   "id": "e6ce99c4",
   "metadata": {},
   "outputs": [],
   "source": []
  },
  {
   "cell_type": "code",
   "execution_count": null,
   "id": "1dea5d80-17e2-4c2c-acf2-60eaacad7c27",
   "metadata": {},
   "outputs": [],
   "source": [
    "reviews_data"
   ]
  },
  {
   "cell_type": "code",
   "execution_count": null,
   "id": "70a33c90-3e48-4b03-8fc7-d5254becf50c",
   "metadata": {},
   "outputs": [],
   "source": [
    "predictions = []\n",
    "\n",
    "for user_input in reviews_data:\n",
    "    my_test_data = count_vectorizer.transform([user_input])\n",
    "    prediction = naive_bayes.predict(my_test_data)[0]\n",
    "    predictions.append(prediction)"
   ]
  },
  {
   "cell_type": "code",
   "execution_count": null,
   "id": "9afdc246-b19b-4868-b9c5-b4a4b7e08af7",
   "metadata": {},
   "outputs": [],
   "source": [
    "# Count the occurrences of '1' in predictions\n",
    "count_1 = predictions.count(1)\n",
    "count_2 = predictions.count(0)\n",
    "# Make the decision based on the count\n",
    "if count_1 >= count_2:\n",
    "    print(\"Truthful\")\n",
    "else:\n",
    "    print(\"Deceptive\")"
   ]
  },
  {
   "cell_type": "code",
   "execution_count": null,
   "id": "10f4388e-7f15-497a-9c2e-c6bfc93f0dfd",
   "metadata": {},
   "outputs": [],
   "source": []
  },
  {
   "cell_type": "code",
   "execution_count": null,
   "id": "5392cf26-1814-4008-9ed6-d31476e48ff5",
   "metadata": {},
   "outputs": [],
   "source": []
  }
 ],
 "metadata": {
  "kernelspec": {
   "display_name": "Python 3 (ipykernel)",
   "language": "python",
   "name": "python3"
  },
  "language_info": {
   "codemirror_mode": {
    "name": "ipython",
    "version": 3
   },
   "file_extension": ".py",
   "mimetype": "text/x-python",
   "name": "python",
   "nbconvert_exporter": "python",
   "pygments_lexer": "ipython3",
   "version": "3.11.5"
  }
 },
 "nbformat": 4,
 "nbformat_minor": 5
}
